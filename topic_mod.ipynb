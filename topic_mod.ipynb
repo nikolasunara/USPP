{
 "cells": [
  {
   "cell_type": "markdown",
   "metadata": {},
   "source": [
    "# Topic modeling - Anomalous event detection"
   ]
  },
  {
   "cell_type": "code",
   "execution_count": 1,
   "metadata": {},
   "outputs": [],
   "source": [
    "import numpy as np\n",
    "import pandas as pd"
   ]
  },
  {
   "cell_type": "markdown",
   "metadata": {},
   "source": [
    "Podatke koje ćemo analizirati smo preuzeli sa stranice https://github.com/tdhopper/topic-modeling-datasets/tree/master/data/lda-c/blei-ap. Skup podataka koji analiziramo se sastoji od 2250 tekstova vijesti o raznim temama. Vokabular koji koristimo se sastoji od 10473 riječi."
   ]
  },
  {
   "cell_type": "code",
   "execution_count": 2,
   "metadata": {},
   "outputs": [],
   "source": [
    "data = open(\"ap.txt\", \"r\")"
   ]
  },
  {
   "cell_type": "code",
   "execution_count": 3,
   "metadata": {},
   "outputs": [],
   "source": [
    "vocabular = open(\"vocab.txt\", \"r\")"
   ]
  },
  {
   "cell_type": "markdown",
   "metadata": {},
   "source": [
    "Predprocesiramo podatke da bi ih mogli koristiti kao ulazne parametre algoritama za modeliranje tema. Prvo pretvaramo riječnik u listu, pa zatim stvaramo matricu koja reprezentira sve dokumente iz skupa podataka."
   ]
  },
  {
   "cell_type": "code",
   "execution_count": 4,
   "metadata": {},
   "outputs": [
    {
     "name": "stdout",
     "output_type": "stream",
     "text": [
      " A 16-year-old student at a private Baptist school who allegedly killed one teacher and wounded another before firing into a filled classroom apparently ``just snapped,'' the school's pastor said. ``I don't know how it could have happened,'' said George Sweet, pastor of Atlantic Shores Baptist Church. ``This is a good, Christian school. We pride ourselves on discipline. Our kids are good kids.'' The Atlantic Shores Christian School sophomore was arrested and charged with first-degree murder, attempted murder, malicious assault and related felony charges for the Friday morning shooting. Police would not release the boy's name because he is a juvenile, but neighbors and relatives identified him as Nicholas Elliott. Police said the student was tackled by a teacher and other students when his semiautomatic pistol jammed as he fired on the classroom as the students cowered on the floor crying ``Jesus save us! God save us!'' Friends and family said the boy apparently was troubled by his grandmother's death and the divorce of his parents and had been tormented by classmates. Nicholas' grandfather, Clarence Elliott Sr., said Saturday that the boy's parents separated about four years ago and his maternal grandmother, Channey Williams, died last year after a long illness. The grandfather also said his grandson was fascinated with guns. ``The boy was always talking about guns,'' he said. ``He knew a lot about them. He knew all the names of them _ none of those little guns like a .32 or a .22 or nothing like that. He liked the big ones.'' The slain teacher was identified as Karen H. Farley, 40. The wounded teacher, 37-year-old Sam Marino, was in serious condition Saturday with gunshot wounds in the shoulder. Police said the boy also shot at a third teacher, Susan Allen, 31, as she fled from the room where Marino was shot. He then shot Marino again before running to a third classroom where a Bible class was meeting. The youngster shot the glass out of a locked door before opening fire, police spokesman Lewis Thurston said. When the youth's pistol jammed, he was tackled by teacher Maurice Matteson, 24, and other students, Thurston said. ``Once you see what went on in there, it's a miracle that we didn't have more people killed,'' Police Chief Charles R. Wall said. Police didn't have a motive, Detective Tom Zucaro said, but believe the boy's primary target was not a teacher but a classmate. Officers found what appeared to be three Molotov cocktails in the boy's locker and confiscated the gun and several spent shell casings. Fourteen rounds were fired before the gun jammed, Thurston said. The gun, which the boy carried to school in his knapsack, was purchased by an adult at the youngster's request, Thurston said, adding that authorities have interviewed the adult, whose name is being withheld pending an investigation by the federal Bureau of Alcohol, Tobacco and Firearms. The shootings occurred in a complex of four portable classrooms for junior and senior high school students outside the main building of the 4-year-old school. The school has 500 students in kindergarten through 12th grade. Police said they were trying to reconstruct the sequence of events and had not resolved who was shot first. The body of Ms. Farley was found about an hour after the shootings behind a classroom door.\n",
      "\n",
      " The Bechtel Group Inc. offered in 1985 to sell oil to Israel at a discount of at least $650 million for 10 years if it promised not to bomb a proposed Iraqi pipeline, a Foreign Ministry official said Wednesday. But then-Prime Minister Shimon Peres said the offer from Bruce Rappaport, a partner in the San Francisco-based construction and engineering company, was ``unimportant,'' the senior official told The Associated Press. Peres, now foreign minister, never discussed the offer with other government ministers, said the official, who spoke on condition of anonymity. The comments marked the first time Israel has acknowledged any offer was made for assurances not to bomb the planned $1 billion pipeline, which was to have run near Israel's border with Jordan. The pipeline was never built. In San Francisco, Tom Flynn, vice president for public relations for the Bechtel Group, said the company did not make any offer to Peres but that Rappaport, a Swiss financier, made it without Bechtel's knowledge or consent. Another Bechtel spokesman, Al Donner, said Bechtel ``at no point'' in development of the pipeline project had anything to do with the handling of the oil. He said proposals submitted by the company ``did not include any specific arrangements for the handling of the oil or for the disposal of the oil once it reached the terminal.'' Asked about Bechtel's disclaimers after they were made in San Francisco, the Israeli Foreign Ministry official said Peres believed Rappaport made the offer for the company. ``Rappaport came to Peres as a representative of Bechtel and said he was speaking on behalf of Bechtel,'' the official said. ``If he was not, he misrepresented himself.'' The Jerusalem Post on Wednesday quoted sources close to Peres as saying that according to Rappaport, Bechtel had said the oil sales would have to be conducted through a third party to keep the sales secret from Iraq and Jordan. The Foreign Ministry official said Peres did not take the offer seriously. ``This is a man who sees 10 people every day,'' he said. ``Thirty percent of them come with crazy ideas. He just says, `Yes, yes. We'll think about it.' That's how things work in Israel.'' The offer appeared to be the one mentioned in a September 1985 memo to Attorney General Edwin Meese III. The memo referred to an arrangement between Peres and Rappaport ``to the effect that Israel will receive somewhere between $65 million and $70 million a year for 10 years.'' The memo from Meese friend E. Robert Wallach, Rappaport's attorney, also states, ``What was also indicated to me, and which would be denied everywhere, is that a portion of those funds will go directly to Labor,'' a reference to the political party Peres leads. The Wallach memo has become the focus of an investigation into whether Meese knew of a possibly improper payment. Peres has denied any wrongdoing and has denounced the memo as ``complete nonsense.'' The Israeli official said Rappaport, a native of Israel and a close friend of Peres, relayed the offer to Peres earlier in September. ``Peres thought the offer was unimportant. For him, the most important thing was to have an Iraqi oil port near Israel's border,'' the official said. ``The thinking was that this would put Iraq in a position where it would not be able to wage war with Israel, out of concern for its pipeline.'' A person answering the telephone at Rappaport's Swiss residence said he was out of town and could not be reached for comment.\n",
      "\n",
      " A gunman took a 74-year-old woman hostage after he was foiled in an attempt to steal $1 million in jewelry belonging to the late Liberace, but police shot and killed the man outside the entertainer's museum. ``I just tried to stay cool,'' said hostage Margaret Bloomberg, who sat down to give police a clear shot at the man and escaped unharmed in Sunday evening's incident at the Liberace Museum. ``The man had a bag of tools, including a crowbar, and was going to smash into the jewelry case,'' said Dora Liberace, administrator of the museum and sister-in-law of the late entertainer. ``He wanted the jewelry and he came prepared to take it.'' Mrs. Bloomberg, who has worked at the museum 10 years, was closing the office when the man appeared, saying he wanted to deliver a plant, Mrs. Liberace said. The man produced a gun, forced his way inside and refused offers of money, Mrs. Bloomberg said. ``Margaret offered him the day's receipts, even offered him the money in her purse, but he wasn't interested,'' Mrs. Liberace said. ``He said `I don't want the cash. I want the jewelry.' He obviously had been in there before and checked out the place. He seemed to know where everything was.'' Mrs. Bloomberg was able to warn a cleaning woman, who slipped out a back door and called police. The gunman tied Mrs. Bloomberg's hands and feet, taped her mouth, then untied her, moved her to another part of the museum and tied her again. ``He was getting ready to pop the jewelry case when he heard a noise outside,'' Mrs. Bloomberg said. ``He went and saw the police. I told him I'd get him out the back door. When we tried that, police were there, too.'' The gunman walked out the front door with a gun pointed at the bound hostage. ``He told police he would shoot me if they didn't let him get to his car,'' she recalled. ``I just tried to stay cool.'' ``She just sat down on the sidewalk, pretending her legs had collapsed under her,'' Mrs. Liberace said. ``He tried to lift her in the car but couldn't. He leaned back for a minute and the police shot him.'' ``When I sat down I figured the police would pick him off, maybe,'' Mrs. Bloomberg said. Mrs. Bloomberg, somewhat shaken and her hands still bearing marks from the ropes, was back at work Monday. ``I thought I was better off working than staying at home and dwelling on it,'' she said. The gunman, identified as Hugh Perry, 47, of Las Vegas, had a lengthy arrest record dating back to the 1960s, said Metro Police Lt. Kyle Edwards. The museum is one of the city's top tourist attractions, featuring memorabilia of the entertainer who gained fame here and retained a home not far away. Mrs. Liberace said the museum has one of the most sophisticated security systems in the city but will now add guards. Liberace, who died in February 1987 of complications due to AIDS, founded the museum 10 years ago to fund the Liberace Foundation for the Performing Arts, which provides scholarships for music and art students at 27 colleges and universities across the United States.\n",
      "\n",
      " Today is Saturday, Oct. 29, the 303rd day of 1988. There are 63 days left in the year. A reminder: daylight-saving time ends tomorrow at 2 a.m. local time. Clocks ``fall back'' one hour. Today's highlight in history: In 1929, ``Black Tuesday'' descended upon the New York Stock Exchange. Prices collapsed amid panic selling, thousands of investors were wiped out, and America's Great Depression began. On this date: In 1618, Sir Walter Raleigh, the English courtier, military adventurer and poet, was executed in London. In 1682, Pennsylvania founder William Penn landed at what is now Chester, Pa. In 1901, President William McKinley's assassin, Leon Czolgosz, was electrocuted. In 1911, American newspaperman Joseph Pulitzer died in Charleston, S.C. In 1923, the Republic of Turkey was proclaimed. In 1940, Secretary of War Henry L. Stimson drew the first number _ 158 _ in the first peacetime military draft in U.S. history. In 1947, former first lady Frances Cleveland Preston died in Baltimore at age 83. In 1956, Israel launched an invasion of Egypt's Sinai Peninsula. In 1956, ``The Huntley-Brinkley Report'' premiered as NBC's nightly television newscast, replacing ``The Camel News Caravan.'' In 1964, thieves made off with the Star of India and several other priceless gems from the American Museum of Natural History in New York. The Star and most of the other gems were recovered the following year; three men were convicted of stealing them. In 1966, the National Organization for Women was founded. In 1986, Sheik Ahmed Zaki Yamani, Saudi Arabia's oil minister since 1962 and one of the best-known figures of the Organization of Petroleum Exporting Countries, was dismissed. Ten years ago: Responding to a rebuke from President Jimmy Carter, Israeli Prime Minister Menachem Begin reaffirmed his country's right to expand existing Jewish settlements in the occupied West Bank and Gaza Strip. Five years ago: The coffins of 16 U.S. servicemen who had been killed in the Beirut truck-bombing on Oct. 23 and the U.S.-led invasion of Grenada arrived at Dover Air Force Base in Delaware. One year ago: Following the confirmation defeat of Robert H. Bork to serve on the U.S. Supreme Court, President Reagan announced his choice of Douglas H. Ginsburg, a nomination that would run into trouble over revelations of Ginsburg's past marijuana use. Today's birthdays: Singer Melba Moore is 43. Actor Richard Dreyfuss is 41. Actress Kate Jackson is 40. Thought for today: ``What one has not experienced, one will never understand in print.'' _ Isadora Duncan, modern dance pioneer (1878-1927).\n",
      "\n",
      " Cupid has a new message for lovers this Valentine's Day and volunteers are lining up to spread the word from Loveland. People around the world send their Valentines through the Loveland post office each year to get the special postmark and cachet verse. Ted Thompson, 85, has been coming up with verses since he and his wife, Mabel, started the remailing program in 1947. An estimated 300,000 people will get Thompson's latest Valentine's verse: ``It might just be a song bird, ``Or perhaps some sparkling dew, ``That brings fond recollections, ``And a timeless cupid too.'' Thompson said recently he's not sure where he got the inspiration. ``It takes the whole year for me to get something I'm satisfied with. It's a hard thing for me. Some people are born to write a verse for you, but that's far away from me.'' Since it stamped 300 pieces of mail its first year, more than 7 million Valentines have passed through the program. The mail is hand-stamped by about 50 senior-citizen volunteers. There's no charge for the extra touch, which begins Monday and continues through Feb. 14.\n",
      "\n",
      " A manufacturer of outdoor picnic equipment on Tuesday recalled hoses for 30,000 smoker-cookers because of possible fire hazards. The Coleman Co., Inc. recalled the hoses that connect to the propane gas tanks of its ``Cookin' Machines'' because they may loosen from the valve connection after repeated use, said the Consumer Product Safety Commission. ``If the hose should loosen when the valve is turned on, fuel may leak from the hose and could present a risk of personal injury or property damage if ignited,'' the agency said. There have been at least five reported incidents of loosened hoses causing fire damage, said the CPSC. The potentially hazardous hoses are installed on cookers manufactured by the Kansas-based company between November 1987 and March 1989. Consumers should discontinue use of the cookers immediately and contact Coleman at 1-800-835-3278 for instructions on free replacement of the hoses.\n"
     ]
    },
    {
     "name": "stdout",
     "output_type": "stream",
     "text": [
      "\n"
     ]
    }
   ],
   "source": [
    "i = 0\n",
    "r = 0\n",
    "while True:\n",
    "    nstr = data.readline()\n",
    "    nstr.strip()\n",
    "    \n",
    "    if len(nstr) == 0:\n",
    "        break\n",
    "        \n",
    "    if nstr[0] == '<':\n",
    "        continue\n",
    "    if nstr[0] == ' ' and nstr[1] == '<':\n",
    "        continue\n",
    "        \n",
    "    if r < 5 or i == 2200:\n",
    "        print(nstr)\n",
    "        r = r+1 \n",
    "        \n",
    "    i = i + 1"
   ]
  },
  {
   "cell_type": "code",
   "execution_count": 5,
   "metadata": {},
   "outputs": [
    {
     "name": "stdout",
     "output_type": "stream",
     "text": [
      "2249\n"
     ]
    }
   ],
   "source": [
    "print(i)"
   ]
  },
  {
   "cell_type": "code",
   "execution_count": 6,
   "metadata": {},
   "outputs": [],
   "source": [
    "data.close()\n",
    "data = open(\"ap.txt\", \"r\")"
   ]
  },
  {
   "cell_type": "code",
   "execution_count": 7,
   "metadata": {},
   "outputs": [
    {
     "name": "stdout",
     "output_type": "stream",
     "text": [
      "10473\n"
     ]
    }
   ],
   "source": [
    "j = 0\n",
    "while True:\n",
    "    nstr = vocabular.readline()\n",
    "    nstr.strip()\n",
    "    \n",
    "    if len(nstr) == 0:\n",
    "        break\n",
    "        \n",
    "    j = j + 1\n",
    "    \n",
    "print(j)"
   ]
  },
  {
   "cell_type": "code",
   "execution_count": 8,
   "metadata": {},
   "outputs": [],
   "source": [
    "matrix = np.zeros((10473, 2250))"
   ]
  },
  {
   "cell_type": "code",
   "execution_count": 9,
   "metadata": {},
   "outputs": [],
   "source": [
    "vocabular.close()\n",
    "vocabular = open(\"vocab.txt\", \"r\")"
   ]
  },
  {
   "cell_type": "code",
   "execution_count": 10,
   "metadata": {},
   "outputs": [],
   "source": [
    "\"\"\"\n",
    "vocab_array je lista riječi rječnika\n",
    "\"\"\"\n",
    "vocab_array = []\n",
    "while True:\n",
    "    nstr = vocabular.readline()\n",
    "    nnstr = nstr.strip()\n",
    "    \n",
    "    if len(nnstr) == 0:\n",
    "        break\n",
    "\n",
    "    if nstr[0] == '<':\n",
    "        continue\n",
    "        \n",
    "    vocab_array.append( nnstr )"
   ]
  },
  {
   "cell_type": "code",
   "execution_count": 11,
   "metadata": {},
   "outputs": [],
   "source": [
    "vocabular.close()\n",
    "vocabular = open(\"vocab.txt\", \"r\")"
   ]
  },
  {
   "cell_type": "markdown",
   "metadata": {},
   "source": [
    "U varijablu <code>matrix</code> spremamo matričnu reprezentaciju dokumenata. Svako pojavljivanje <code>i</code>-te riječi rječnika u <code>j</code>-om dokumentu povećava element <code>matrix</code>$_{ij}$ za 1. Dakle, j-ti stupac matrice reprezentira j-ti dokument."
   ]
  },
  {
   "cell_type": "code",
   "execution_count": 12,
   "metadata": {},
   "outputs": [
    {
     "name": "stdout",
     "output_type": "stream",
     "text": [
      "2249\n"
     ]
    }
   ],
   "source": [
    "k = 0\n",
    "z = 0\n",
    "while True:\n",
    "    nstr = data.readline()\n",
    "    nstr.strip()\n",
    "    \n",
    "    if len(nstr) == 0:\n",
    "        break\n",
    "        \n",
    "    if nstr[0] == '<':\n",
    "        continue\n",
    "    if nstr[0] == ' ' and nstr[1] == '<':\n",
    "        continue\n",
    "    \n",
    "    words = nstr.replace('.', ' ').replace(',', ' ').split(' ')\n",
    "\n",
    "    for word in words:\n",
    "        \n",
    "        cword = word.lower()\n",
    "        \n",
    "        for l in range(10473):\n",
    "            \n",
    "            if( cword == vocab_array[l] ):\n",
    "                matrix[l][k] = matrix[l][k] + 1\n",
    "                break\n",
    "                \n",
    "    k = k + 1\n",
    "print(k)"
   ]
  },
  {
   "cell_type": "code",
   "execution_count": 13,
   "metadata": {},
   "outputs": [
    {
     "name": "stdout",
     "output_type": "stream",
     "text": [
      "(10473, 2250)\n",
      "2246 (10473, 2247)\n"
     ]
    }
   ],
   "source": [
    "c_matrix = matrix\n",
    "print(c_matrix.shape)\n",
    "l = 0\n",
    "for j in range(2249):\n",
    "\n",
    "    k = 0\n",
    "    for i in range(10473):\n",
    "        if(c_matrix[i][l] > 0):\n",
    "            k = k + 1\n",
    "    if k == 0:\n",
    "        c_matrix = np.delete(c_matrix, l, 1)\n",
    "    else:\n",
    "        l = l + 1\n",
    "        \n",
    "print(l, c_matrix.shape)"
   ]
  },
  {
   "cell_type": "code",
   "execution_count": 14,
   "metadata": {},
   "outputs": [
    {
     "data": {
      "text/plain": [
       "(10473, 2250)"
      ]
     },
     "execution_count": 14,
     "metadata": {},
     "output_type": "execute_result"
    }
   ],
   "source": [
    "matrix.shape"
   ]
  },
  {
   "cell_type": "code",
   "execution_count": 15,
   "metadata": {},
   "outputs": [],
   "source": [
    "from sklearn.decomposition import NMF\n",
    "model = NMF(n_components=3, init='random', random_state=0)\n",
    "W = model.fit_transform( c_matrix )\n",
    "H = model.components_"
   ]
  },
  {
   "cell_type": "markdown",
   "metadata": {},
   "source": [
    "Odredimo prvo NMF-om kojim temama možemo najbolje opisati sve dokumente."
   ]
  },
  {
   "cell_type": "code",
   "execution_count": 16,
   "metadata": {},
   "outputs": [
    {
     "name": "stdout",
     "output_type": "stream",
     "text": [
      "0 5.293561586853502 new\n",
      "0 27.42424236885543 percent\n",
      "0 9.856895488847908 year\n",
      "0 8.405420034476172 million\n",
      "0 4.768830056146629 last\n",
      "0 8.706627228228381 billion\n",
      "0 4.124585611579803 market\n",
      "0 3.2215506065902355 report\n",
      "0 4.883169846029265 prices\n",
      "0 4.413926662409332 sales\n",
      "0 3.974283068234925 rose\n",
      "0 3.669526399610713 rate\n",
      "1 5.1787352494247845 i\n",
      "1 4.779289960822729 new\n",
      "1 7.756464724753017 people\n",
      "1 6.090640270046828 two\n",
      "1 3.558835510382749 million\n",
      "1 3.7703654870085073 last\n",
      "1 4.831629181755087 government\n",
      "1 4.546620223599726 years\n",
      "1 6.220990196093479 police\n",
      "1 4.386569510414389 state\n",
      "1 3.7479626495239318 officials\n",
      "1 3.097480030261818 three\n",
      "1 3.638169982551916 court\n",
      "1 3.235206671696902 city\n",
      "2 5.235592048827308 president\n",
      "2 3.2669065146130456 states\n",
      "2 5.86417694131389 soviet\n",
      "2 3.684615296465797 united\n",
      "2 6.899230037367382 bush\n"
     ]
    }
   ],
   "source": [
    "for j in range(len(W[i])):\n",
    "    for i in range(10473):\n",
    "        if(W[i][j] > 3):\n",
    "            print(j, W[i][j], vocab_array[i])"
   ]
  },
  {
   "cell_type": "markdown",
   "metadata": {},
   "source": [
    "Vidimo da je NMF algoritam prepoznao sljedeće tri teme (teme opisujemo riječima koje se najčešće koriste u toj temi):\n",
    "* Prva tema: percent, year, million, billion, new, last, market, report, prices, sales, rose, rate (ekonomija)\n",
    "* Druga tema: people, two, million, government, years, police, state, officials, court (državne službe)\n",
    "* Treća tema: president, states, soviet, united, bush (politika)"
   ]
  },
  {
   "cell_type": "code",
   "execution_count": 17,
   "metadata": {},
   "outputs": [],
   "source": [
    "\"\"\"\n",
    "Nenegativni najmanji kvadrati\n",
    "\"\"\"\n",
    "def ls( A, W):\n",
    "    \n",
    "    lamda = 0.5\n",
    "    \n",
    "    (n1, k1) = A.shape\n",
    "    (n, k) = W.shape\n",
    "    # proizvoljno inicijaliziramo H\n",
    "    H = np.ones( (k,k1) )\n",
    "    \n",
    "    for z in range(1):\n",
    "        \n",
    "        # update-amo stupce matrice H\n",
    "        B = np.zeros( (k,k) )\n",
    "        B = W.transpose() @ W\n",
    "            \n",
    "        for i in range(k1):\n",
    "        \n",
    "            C = A[:, i].transpose() @ W            \n",
    "            if( np.linalg.matrix_rank( B + lamda * np.eye(k) ) == k ):\n",
    "                H[:, i] = C @ np.linalg.inv(B + lamda * np.eye(k) )\n",
    "                \n",
    "    (e, f) = H.shape\n",
    "    for l in range(e):\n",
    "        for v in range(f):\n",
    "            if H[l][v] < 0:\n",
    "                H[l][v] = 0\n",
    " \n",
    "    return H"
   ]
  },
  {
   "cell_type": "markdown",
   "metadata": {},
   "source": [
    "**STExNMF algoritam**: <br>\n",
    "Ulaz: matrica $A_c$ koja opisuje centralne dokumente (one koje uspoređujemo s ostalim dokumentima), lista matrica koje opisuju ostale skupove dokumenata s kojma uspoređujemo centralne dokumente, koeficijent $\\alpha$. <br>\n",
    "Izlaz: matrica $W_{ex}$ koja opisuje teme po kojima se skup centralnih dokumenata razlikuje od ostalih skupova dokumenata (teme koje su karakteristične isključivo za centralni skup dokumenata) i matrica $H_{ex}$.\n",
    "* Napravimo inicijalni topic modeling na svim susjednim matricama (npr. NMF).\n",
    "* Izračunamo $W_N$ koristeći jednadžbu min$_{W_N \\geq 0, H \\geq 0} ||W_{ne}-W_NH||_F^2$ (npr. NMF), gdje je $W_{ne}$ matrica čiju su stupci teme dobivene iz predhodog koraka.\n",
    "* Izračunamo $H_N$ iz jednadžbe min$_{H_N \\geq 0} ||\\alpha A_C - W_N H_N||_F^2$ (npr. nenegativni najmanji kvadrati).\n",
    "* Izračunamo $R_C$ pomoću formule $R_C = [A_C -W_NH_N]_+$.\n",
    "* Izračunamo $W_{ex}$ i $H_{ex}$ iz jednadžbe min$_{W_{ex} \\geq 0, H_{ex} \\geq 0} ||R_{C}-W_{ex}H_{ex}||_F^2$ (npr. NMF)."
   ]
  },
  {
   "cell_type": "code",
   "execution_count": 18,
   "metadata": {},
   "outputs": [],
   "source": [
    "def ste_nmf( matrica, susjedne_matrice, k_ne, alpha ):\n",
    "    \n",
    "    # prvi korak: topic modeling s nmf\n",
    "    # W, H topic modeling od glavne matrice\n",
    "    # W_list, H_list liste matrica dobivene topic modelingom susjednih matrica\n",
    "    model = NMF(n_components=k_ne, init='random', random_state=0)\n",
    "    W = model.fit_transform( matrica )\n",
    "    H = model.components_\n",
    "    \n",
    "    W_list = []\n",
    "    H_list = []\n",
    "    \n",
    "    for i in range( k_ne ):\n",
    "        \n",
    "        model1 = NMF(n_components=3, init='random', random_state=0)\n",
    "        W_susjedne = model1.fit_transform( susjedne_matrice[i] )\n",
    "        H_susjedne = model1.components_\n",
    "        \n",
    "        W_list.append( W_susjedne )\n",
    "        H_list.append( H_susjedne )\n",
    "        \n",
    "    # drugi korak: dobiti W_N iz susjednih matrica\n",
    "    \n",
    "    W_ne = W_list[0]\n",
    "    \n",
    "    for j in range( len( W_list) - 1 ):\n",
    "        np.concatenate((W_ne, W_list[j + 1]), axis=1)\n",
    "        \n",
    "    model = NMF(n_components=3, init='random', random_state=0)\n",
    "    W_N = model.fit_transform( W_ne )\n",
    "    H_pom = model.components_\n",
    "    \n",
    "    # treci korak: H_N iz A_c i W_N non-negative least square\n",
    "    H_N = ls( alpha * matrica, W_N )\n",
    "    \n",
    "    # cetvrti korak: R_C = A_c - W_N*H_N\n",
    "    R_C = matrica - W_N @ H_N\n",
    "    \n",
    "    (r, c) = R_C.shape\n",
    "    for i in range(r):\n",
    "        for j in range(c):\n",
    "            if R_C[i][j] < 0:\n",
    "                R_C[i][j] = 0\n",
    "    \n",
    "    # peti korak: nmf na R_C\n",
    "    model = NMF(n_components=3, init='random', random_state=0)\n",
    "    W_ex = model.fit_transform( R_C )\n",
    "    H_ex = model.components_\n",
    "    \n",
    "    return (W_ex, H_ex)"
   ]
  },
  {
   "cell_type": "markdown",
   "metadata": {},
   "source": [
    "Podijelimo sada prvih 2000 dokumenata u 5 grupa (svaka po 400 dokumenata). Zatim probajmo odrediti koje teme se pojavljuju u prvoj grupi, a ne pojavljuju se u ostalim grupama pomoću STExNMF algoritma."
   ]
  },
  {
   "cell_type": "code",
   "execution_count": 19,
   "metadata": {},
   "outputs": [],
   "source": [
    "m_matrix = []\n",
    "\n",
    "A_c = c_matrix[:,:400]\n",
    "\n",
    "for i in range(4): \n",
    "    m_matrix.append( c_matrix[:,(400*(i+1)):(400*(i+2))])"
   ]
  },
  {
   "cell_type": "code",
   "execution_count": 20,
   "metadata": {},
   "outputs": [
    {
     "data": {
      "text/plain": [
       "(10473, 400)"
      ]
     },
     "execution_count": 20,
     "metadata": {},
     "output_type": "execute_result"
    }
   ],
   "source": [
    "m_matrix[0].shape"
   ]
  },
  {
   "cell_type": "code",
   "execution_count": 21,
   "metadata": {},
   "outputs": [
    {
     "name": "stderr",
     "output_type": "stream",
     "text": [
      "C:\\Users\\Korisnik\\anaconda3\\lib\\site-packages\\sklearn\\decomposition\\_nmf.py:1076: ConvergenceWarning: Maximum number of iterations 200 reached. Increase it to improve convergence.\n",
      "  warnings.warn(\"Maximum number of iterations %d reached. Increase it to\"\n"
     ]
    }
   ],
   "source": [
    "(W, H) = ste_nmf( A_c, m_matrix, 3, 0.5)"
   ]
  },
  {
   "cell_type": "code",
   "execution_count": 22,
   "metadata": {},
   "outputs": [
    {
     "data": {
      "text/plain": [
       "((10473, 3), (3, 400))"
      ]
     },
     "execution_count": 22,
     "metadata": {},
     "output_type": "execute_result"
    }
   ],
   "source": [
    "W.shape, H.shape"
   ]
  },
  {
   "cell_type": "code",
   "execution_count": 23,
   "metadata": {
    "scrolled": false
   },
   "outputs": [
    {
     "name": "stdout",
     "output_type": "stream",
     "text": [
      "0 11.202353070305504 new\n",
      "0 5.2771213114707125 two\n",
      "0 5.552614485498783 million\n",
      "0 6.349113277895146 government\n",
      "0 5.054897889329683 police\n",
      "0 4.704044747240703 state\n",
      "0 5.045607840214022 officials\n",
      "0 9.29388754030282 soviet\n",
      "0 4.436684475325572 company\n",
      "0 4.992099807301652 party\n",
      "0 5.735142356904334 union\n",
      "1 14.266614360299103 percent\n",
      "1 5.39800827460144 prices\n",
      "1 4.009111716045827 rate\n",
      "2 9.683562561006452 i\n",
      "2 4.783716775934787 people\n",
      "2 6.166530828605664 bush\n"
     ]
    }
   ],
   "source": [
    "for j in range(len(W[i])):\n",
    "    for i in range(10473):\n",
    "        if(W[i][j] > 4):\n",
    "            print(j, W[i][j], vocab_array[i])"
   ]
  },
  {
   "cell_type": "markdown",
   "metadata": {},
   "source": [
    "Za $\\alpha = 0.5$ još uvijek dobivamo slične teme kao za $\\alpha = 0.1$. Primjetimo da je tema \"državne službe\" sada doblia neka politička obilježja."
   ]
  },
  {
   "cell_type": "code",
   "execution_count": 24,
   "metadata": {},
   "outputs": [],
   "source": [
    "(W1, H1) = ste_nmf( A_c, m_matrix, 3, 0.1)"
   ]
  },
  {
   "cell_type": "code",
   "execution_count": 25,
   "metadata": {},
   "outputs": [
    {
     "name": "stdout",
     "output_type": "stream",
     "text": [
      "0 13.526238827646232 new\n",
      "0 4.688813320729919 people\n",
      "0 4.603342168056464 year\n",
      "0 6.800929748839333 two\n",
      "0 7.695493332388656 million\n",
      "0 4.280028155137246 last\n",
      "0 7.93499534983808 police\n",
      "0 6.349774374935117 state\n",
      "0 5.023266877436142 officials\n",
      "0 5.610354070502784 court\n",
      "0 4.174075938977541 day\n",
      "0 6.084972565841875 company\n",
      "0 4.310793071427091 city\n",
      "0 4.334363783428326 york\n",
      "0 4.500036104435555 bank\n",
      "1 19.087347094052607 percent\n",
      "1 4.055841210700189 year\n",
      "1 5.666862443467246 prices\n",
      "1 4.173888691832099 rate\n",
      "2 5.792618285729481 i\n",
      "2 4.786874769781859 people\n",
      "2 4.638633297386871 president\n",
      "2 4.249592855236345 government\n",
      "2 8.148694084268634 soviet\n",
      "2 6.248293162524442 bush\n"
     ]
    }
   ],
   "source": [
    "for j in range(len(W1[i])):\n",
    "    for i in range(10473):\n",
    "        if(W1[i][j] > 4):\n",
    "            print(j, W1[i][j], vocab_array[i])"
   ]
  },
  {
   "cell_type": "markdown",
   "metadata": {},
   "source": [
    "Za $\\alpha =0.1$ dobivamo vrlo slične teme kao i u inicijalnom topic modelingu što je i očekivano za mali $\\alpha$. Možemo primjetiti da je tema koju smo nazvali \"državne službe\" uključila i druge institucije (banke, kompanije)."
   ]
  },
  {
   "cell_type": "code",
   "execution_count": 26,
   "metadata": {},
   "outputs": [],
   "source": [
    "(W2, H2) = ste_nmf( A_c, m_matrix, 3, 0.9)"
   ]
  },
  {
   "cell_type": "code",
   "execution_count": 27,
   "metadata": {},
   "outputs": [
    {
     "name": "stdout",
     "output_type": "stream",
     "text": [
      "0 13.150546887514906 i\n",
      "0 6.426571860572141 people\n",
      "0 3.416627667351174 year\n",
      "0 3.3701379271323364 years\n",
      "0 3.947909146418616 state\n",
      "0 6.089709520194346 bush\n",
      "0 3.2905641118700406 told\n",
      "0 3.2470109035927273 house\n",
      "0 3.1001189782124365 court\n",
      "0 3.455941575651616 day\n",
      "0 3.610341936101882 going\n",
      "0 4.6006918042049145 get\n",
      "0 5.206499557649845 think\n",
      "0 3.269857174689544 back\n",
      "0 3.296397800598192 dukakis\n",
      "0 3.0095481527607952 campaign\n",
      "0 3.968451320412492 administration\n",
      "1 9.280215914071048 new\n",
      "1 4.678133122656951 million\n",
      "1 5.207180154015726 company\n",
      "1 3.5044899691108946 york\n",
      "1 4.544445446020247 bank\n",
      "2 4.688991744046598 government\n",
      "2 9.608826577745193 soviet\n",
      "2 5.307179052939781 party\n",
      "2 3.4712300697774907 union\n",
      "2 3.9659109654238653 gorbachev\n"
     ]
    }
   ],
   "source": [
    "for j in range(len(W2[i])):\n",
    "    for i in range(10473):\n",
    "        if(W2[i][j] > 3):\n",
    "            print(j, W2[i][j], vocab_array[i])"
   ]
  },
  {
   "cell_type": "markdown",
   "metadata": {},
   "source": [
    "Pogledajmo koje teme dobivamo za $\\alpha = 0.9$:\n",
    "* Prva tema: people, bush, house, court, dukakis, campaign, administration (izborna kampanja)\n",
    "* Druga tema: new, million, company, bank (kompanije i banke)\n",
    "* Treća tema: government, soviet, party, union, gorbachev (Sovjetski savez/nekad vanjska politika)\n",
    "\n",
    "Dobili smo konkretne teme po kojima se prva grupa dokumenata razlikuje od ostalih. Prije smo rekli da svi dokumenti govore o ekonomiji, sada vidimo da prva grupa govori konkretno o kompanijama i bankama. Slično smo imali i temu vanjske politkike u svim dokumentima, a u prvoj grupi dokumenata se govori o Sovjetskom savezu. Otkrivamo i novu temu izborne kampanje (Dukakis vs. Bush)."
   ]
  },
  {
   "cell_type": "markdown",
   "metadata": {},
   "source": [
    "### Topic variation score"
   ]
  },
  {
   "cell_type": "markdown",
   "metadata": {},
   "source": [
    "Topic variation score se definira formulom: $T_v(C_{\\alpha}, C_I) = 1 - \\frac{|C_{\\alpha} \\cap C_I|}{|C_{\\alpha} \\cup C_I|}$,\n",
    "gdje $C_{\\alpha}$ označava skup ključnih riječi koje smo dobili primjenom STExNMF algoritma, a $C_I$ označava skup ključnih riječi koje smo dobili inicijalnim topic modelingom.\n",
    "\n",
    "Topic variation score određuje koliko se teme dobivene sa STExNMF algoritmom razlikuju od tema dobivenih sa standardnim NMF-om. U našem slučaju korisno je vidjeti kako raznolikost dobivenih tema ovisi o parametru $\\alpha$."
   ]
  },
  {
   "cell_type": "code",
   "execution_count": 28,
   "metadata": {},
   "outputs": [],
   "source": [
    "from sklearn.decomposition import NMF\n",
    "model = NMF(n_components=3, init='random', random_state=0)\n",
    "W = model.fit_transform( A_c )\n",
    "H = model.components_"
   ]
  },
  {
   "cell_type": "code",
   "execution_count": 29,
   "metadata": {
    "scrolled": true
   },
   "outputs": [
    {
     "name": "stdout",
     "output_type": "stream",
     "text": [
      "0 4.566699470770084 new\n",
      "0 31.082936322796222 percent\n",
      "0 7.1163958817335375 year\n",
      "0 5.928669219235339 last\n",
      "0 3.1867492988713466 billion\n",
      "0 3.1269952783474606 report\n",
      "0 3.2571192266903433 department\n",
      "0 8.889731656753028 prices\n",
      "0 5.783652803527778 month\n",
      "0 5.399468944155843 oil\n",
      "0 5.905302618154619 rose\n",
      "0 3.704942235824789 price\n",
      "0 6.489980397793733 rate\n",
      "0 3.082200409767084 increase\n",
      "0 3.0554833588406862 production\n",
      "0 4.643543187910931 november\n",
      "0 3.3693618334477633 september\n",
      "0 4.296395107085822 october\n",
      "0 4.932962704231332 inflation\n",
      "1 9.668558210106976 i\n",
      "1 5.372460412693719 people\n",
      "1 5.078807977559409 president\n",
      "1 9.596104357546249 bush\n",
      "1 3.1891749986323945 american\n",
      "1 3.1615278066600845 house\n",
      "1 3.1461309198808234 going\n",
      "1 4.258176094415825 think\n",
      "1 4.140559067997399 dukakis\n",
      "1 3.2729200422820908 campaign\n",
      "1 3.4610249116091953 administration\n",
      "2 7.5504596340442305 new\n",
      "2 3.6014658052859057 people\n",
      "2 4.542950547522271 two\n",
      "2 3.5786073598724584 million\n",
      "2 4.210883138388753 government\n",
      "2 4.7737306258042596 police\n",
      "2 3.4756021816242972 state\n",
      "2 3.74696599631603 officials\n",
      "2 6.604939841870609 soviet\n",
      "2 3.2888329919147807 party\n",
      "2 3.648790118687891 union\n"
     ]
    }
   ],
   "source": [
    "for j in range(len(W[i])):\n",
    "    for i in range(10473):\n",
    "        if(W[i][j] > 3):\n",
    "            print(j, W[i][j], vocab_array[i])"
   ]
  },
  {
   "cell_type": "markdown",
   "metadata": {},
   "source": [
    "Uzimajući u obzir 17 ključnih riječi, dobivamo sljedeće rezultate ovisno o $\\alpha$:\n",
    "* $T_{0.1} = 0.52$\n",
    "* $T_{0.5} = 0.64$\n",
    "* $T_{0.9} = 0.83$"
   ]
  },
  {
   "cell_type": "code",
   "execution_count": 38,
   "metadata": {
    "scrolled": true
   },
   "outputs": [
    {
     "data": {
      "text/plain": [
       "Text(0, 0.5, '$T_{\\\\alpha}$')"
      ]
     },
     "execution_count": 38,
     "metadata": {},
     "output_type": "execute_result"
    },
    {
     "data": {
      "image/png": "[encoded data removed]",
      "text/plain": [
       "<Figure size 432x288 with 1 Axes>"
      ]
     },
     "metadata": {
      "needs_background": "light"
     },
     "output_type": "display_data"
    }
   ],
   "source": [
    "from matplotlib import pyplot as plt\n",
    "plt.plot([0.1, 0.5, 0.9], [0.52, 0.64, 0.83])\n",
    "plt.xlabel(r'$\\alpha$')\n",
    "plt.ylabel(r'$T_{\\alpha}$')"
   ]
  }
 ],
 "metadata": {
  "kernelspec": {
   "display_name": "Python 3",
   "language": "python",
   "name": "python3"
  },
  "language_info": {
   "codemirror_mode": {
    "name": "ipython",
    "version": 3
   },
   "file_extension": ".py",
   "mimetype": "text/x-python",
   "name": "python",
   "nbconvert_exporter": "python",
   "pygments_lexer": "ipython3",
   "version": "3.8.5"
  }
 },
 "nbformat": 4,
 "nbformat_minor": 4
}
