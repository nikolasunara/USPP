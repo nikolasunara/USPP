{
 "cells": [
  {
   "cell_type": "code",
   "execution_count": 1,
   "metadata": {},
   "outputs": [],
   "source": [
    "import networkx as nx\n",
    "import matplotlib.pyplot as plt"
   ]
  },
  {
   "cell_type": "code",
   "execution_count": 2,
   "metadata": {},
   "outputs": [
    {
     "data": {
      "image/png": "[encoded data removed]",
      "text/plain": [
       "<Figure size 432x288 with 1 Axes>"
      ]
     },
     "metadata": {},
     "output_type": "display_data"
    }
   ],
   "source": [
    "fig, ax = plt.subplots(1)\n",
    "\n",
    "G = nx.Graph()\n",
    "\n",
    "G.add_edge('1', '6', tezina=1)\n",
    "G.add_edge('1', '3', tezina=1)\n",
    "G.add_edge('2', '4', tezina=1)\n",
    "G.add_edge('2', '3', tezina=-1)\n",
    "G.add_edge('2', '8', tezina=-1)\n",
    "G.add_edge('3', '5', tezina=-1)\n",
    "G.add_edge('3', '7', tezina=1)\n",
    "G.add_edge('3', '8', tezina=1)\n",
    "G.add_edge('3', '4', tezina=-1)\n",
    "G.add_edge('5', '6', tezina=-1)\n",
    "G.add_edge('5', '7', tezina=-1)\n",
    "\n",
    "\n",
    "oznake = nx.get_edge_attributes(G, 'tezina')\n",
    "tezine = [G[u][v]['tezina'] + 2 for u,v in G.edges()]\n",
    "\n",
    "pos = nx.spring_layout(G)\n",
    "\n",
    "nx.draw(G, pos, ax, width=tezine, node_size=1500, with_labels=True, node_color='r', edge_color= 'b')"
   ]
  },
  {
   "cell_type": "markdown",
   "metadata": {},
   "source": [
    "# SVP"
   ]
  },
  {
   "cell_type": "code",
   "execution_count": 3,
   "metadata": {},
   "outputs": [],
   "source": [
    "import numpy as np"
   ]
  },
  {
   "cell_type": "code",
   "execution_count": 4,
   "metadata": {},
   "outputs": [],
   "source": [
    "\n",
    "def svp(A, k, delta, p):\n",
    "    (m, n) = A.shape\n",
    "    X = np.zeros(A.shape)\n",
    "    \n",
    "    counter = 0\n",
    "    \n",
    "    # http://www.prateekjain.org/publications/all_papers/JainMD10_NIPS.pdf\n",
    "    \n",
    "    while( counter == 0 or np.linalg.norm( X - A ) > 0.000001 ):\n",
    "        \n",
    "        C = X;\n",
    "        counter += 1\n",
    "        \n",
    "        for k in range(m):\n",
    "            for l in range(n):\n",
    "                \n",
    "                if( A[k][l] == 0 ):\n",
    "                    X[k][l] = 0\n",
    "        \n",
    "        C = C-(1/((1+delta)*p))*(X-A);\n",
    "        \n",
    "        U, S, V = np.linalg.svd(C, full_matrices=True)\n",
    "        X = U[:, 0:k+1] @ np.diag(S)[0:k+1, 0:k+1] @ V[:, 0:k+1] \n",
    "        \n",
    "    D = X\n",
    "    E = np.zeros( A.shape )\n",
    "    \n",
    "    for i in range(m):\n",
    "        for j in range(n):\n",
    "            if( D[i][j] > 0):\n",
    "                E[i][j] = 1\n",
    "            elif(D[i][j] < 0):\n",
    "                E[i][j] = -1\n",
    "                \n",
    "    print(counter)\n",
    "    \n",
    "    return E\n",
    "        \n"
   ]
  },
  {
   "cell_type": "code",
   "execution_count": 5,
   "metadata": {},
   "outputs": [
    {
     "data": {
      "text/plain": [
       "array([[ 1,  0,  1,  0,  0,  1,  0,  0],\n",
       "       [ 0,  1, -1,  1,  0,  0,  0, -1],\n",
       "       [ 1, -1,  1, -1, -1,  0,  1,  1],\n",
       "       [ 0,  1, -1,  1,  0,  0,  0,  0],\n",
       "       [ 0,  0, -1,  0,  1, -1, -1,  0],\n",
       "       [ 1,  0,  0,  0, -1,  1,  0,  0],\n",
       "       [ 0,  0,  1,  0, -1,  0,  1,  0],\n",
       "       [ 0, -1,  1,  0,  0,  0,  0,  1]])"
      ]
     },
     "execution_count": 5,
     "metadata": {},
     "output_type": "execute_result"
    }
   ],
   "source": [
    "A = np.array([[1, 0, 1, 0, 0, 1, 0, 0], [0, 1, -1, 1, 0, 0, 0, -1], [1, -1, 1, -1, -1, 0, 1, 1], [0, 1, -1, 1, 0, 0, 0, 0],\n",
    "[0, 0, -1, 0, 1, -1, -1, 0], [1, 0, 0, 0, -1, 1, 0, 0], [0, 0, 1, 0, -1, 0, 1, 0], [0, -1, 1, 0, 0, 0, 0, 1]])\n",
    "\n",
    "A"
   ]
  },
  {
   "cell_type": "code",
   "execution_count": 6,
   "metadata": {
    "scrolled": true
   },
   "outputs": [
    {
     "name": "stdout",
     "output_type": "stream",
     "text": [
      "8139\n"
     ]
    },
    {
     "data": {
      "text/plain": [
       "array([[ 1.,  1.,  1., -1.,  1.,  1.,  1.,  1.],\n",
       "       [-1.,  1., -1.,  1.,  1., -1., -1., -1.],\n",
       "       [ 1., -1.,  1., -1., -1.,  1.,  1.,  1.],\n",
       "       [-1.,  1., -1.,  1.,  1.,  1., -1., -1.],\n",
       "       [-1.,  1., -1.,  1.,  1., -1., -1., -1.],\n",
       "       [ 1., -1.,  1., -1., -1.,  1.,  1.,  1.],\n",
       "       [ 1., -1.,  1., -1., -1.,  1.,  1.,  1.],\n",
       "       [ 1., -1.,  1., -1., -1., -1.,  1.,  1.]])"
      ]
     },
     "execution_count": 6,
     "metadata": {},
     "output_type": "execute_result"
    }
   ],
   "source": [
    "Z = svp( A, 3, 0.5, 350)\n",
    "Z"
   ]
  },
  {
   "cell_type": "markdown",
   "metadata": {},
   "source": [
    "# ALS"
   ]
  },
  {
   "cell_type": "code",
   "execution_count": 7,
   "metadata": {},
   "outputs": [],
   "source": [
    "\n",
    "def als( A, lamda, k):\n",
    "    \n",
    "    (m, n) = A.shape\n",
    "    W = np.ones( (k,n) );\n",
    "    H = np.ones( (k,n) );\n",
    "    \n",
    "    # http://ethen8181.github.io/machine-learning/recsys/1_ALSWR.html\n",
    "    \n",
    "    for z in range(100):\n",
    "        \n",
    "        B = np.zeros( (k,k) )\n",
    "        \n",
    "        B = H @ H.transpose()\n",
    "            \n",
    "        for i in range(n):\n",
    "            C = np.zeros( (1,k) )\n",
    "            \n",
    "            for j in range(n):\n",
    "                C = C + A[i, j] * H[:, j]\n",
    "            \n",
    "            if( np.linalg.matrix_rank(B + lamda * np.eye(k)) == k ):\n",
    "                W[:, i] = ( np.linalg.inv( B + lamda * np.eye(k) ) @ C.transpose()).transpose()\n",
    "            \n",
    "        B = np.zeros( (k,k) )\n",
    "        \n",
    "        B =  W @ W.transpose() \n",
    "            \n",
    "        for i in range(n):\n",
    "            C = np.zeros( (1,k) )\n",
    "            for j in range(n):\n",
    "                C = C + A[i,j] * W[:, j]\n",
    "            \n",
    "            if( np.linalg.matrix_rank( B + lamda * np.eye(k) ) == k ):\n",
    "                H[:, i] = ( np.linalg.inv(B + lamda * np.eye(k) ) @ C.transpose()).transpose()\n",
    "            \n",
    "    D = W.transpose() @ H\n",
    "    r = np.linalg.matrix_rank( D )\n",
    "        \n",
    "    E = np.zeros( (n,n) )\n",
    "    for i in range(n):\n",
    "        for j in range(n):\n",
    "            if( D[i, j] > 0 ):\n",
    "                E[i,j] = 1\n",
    "                    \n",
    "            elif( D[i,j] < 0 ):\n",
    "                E[i,j] = -1\n",
    "        \n",
    "    return E"
   ]
  },
  {
   "cell_type": "code",
   "execution_count": 8,
   "metadata": {
    "scrolled": true
   },
   "outputs": [
    {
     "data": {
      "text/plain": [
       "array([[ 1., -1.,  1., -1., -1.,  1.,  1.,  1.],\n",
       "       [-1.,  1., -1.,  1.,  1.,  1., -1., -1.],\n",
       "       [ 1., -1.,  1., -1., -1.,  1.,  1.,  1.],\n",
       "       [-1.,  1., -1.,  1.,  1.,  1., -1., -1.],\n",
       "       [-1.,  1., -1.,  1.,  1., -1., -1., -1.],\n",
       "       [ 1.,  1.,  1.,  1., -1.,  1.,  1., -1.],\n",
       "       [ 1., -1.,  1., -1., -1.,  1.,  1.,  1.],\n",
       "       [ 1., -1.,  1., -1., -1., -1.,  1.,  1.]])"
      ]
     },
     "execution_count": 8,
     "metadata": {},
     "output_type": "execute_result"
    }
   ],
   "source": [
    "als( A, 0.5, 3)"
   ]
  },
  {
   "cell_type": "markdown",
   "metadata": {},
   "source": [
    "# Clustering"
   ]
  },
  {
   "cell_type": "code",
   "execution_count": 9,
   "metadata": {},
   "outputs": [],
   "source": [
    "\n",
    "def clustering(A, lamda, k):\n",
    "    \n",
    "    (m, n) = A.shape\n",
    "    W = np.ones( (k, n) )\n",
    "    H = np.ones( (k, n) )\n",
    "    \n",
    "    for z in range(100):\n",
    "        \n",
    "        # prvo als-om \"nadopunjujemo\" A (0 u 1 ili -1)\n",
    "        # update-amo stupce matrice W\n",
    "        B = np.zeros( (k,k) )\n",
    "        for i in range(m):\n",
    "            B = H @ H.transpose() \n",
    "            \n",
    "        for i in range(m):\n",
    "            C = np.zeros( (1, k) )\n",
    "            \n",
    "            for j in range(n):\n",
    "                C = C + ( A[i, j] * H[:, j] )   \n",
    "            \n",
    "            if( np.linalg.matrix_rank(B + lamda * np.eye(k)) == k ):    \n",
    "                W[:, i] = ( np.linalg.inv( B + lamda * np.eye(k) ) @ C.transpose() ).transpose()\n",
    "        \n",
    "        # update-amo stupce matrice H\n",
    "        B = np.zeros( (k,k) )\n",
    "        for i in range(m):\n",
    "            B =  W @ W.transpose() \n",
    "            \n",
    "        for i in range(m):\n",
    "            C = np.zeros( (1, k) )\n",
    "            for j in range(n):\n",
    "                C = C + A[i, j] * W[:, j]\n",
    "            \n",
    "            if( np.linalg.matrix_rank(B + lamda * np.eye(k)) == k ):\n",
    "                H[:, i] = ( np.linalg.inv( B + lamda * np.eye(k) ) @ C.transpose() ).transpose()\n",
    "            \n",
    "    D = W.transpose() @ H\n",
    "    r = np.linalg.matrix_rank( D )\n",
    "    \n",
    "    E = np.zeros( (n, n) )\n",
    "    for i in range(m):\n",
    "        for j in range(n):\n",
    "            if( D[i, j] > 0 ):\n",
    "                E[i, j] = 1\n",
    "                \n",
    "            elif( D[i, j] < 0 ):\n",
    "                E[i, j] = -1\n",
    "    \n",
    "    # E je potpuna matrica dobivena nadopunjavanjem A\n",
    "    print(E)\n",
    "    \n",
    "    # https://www.researchgate.net/publication/330339110_Clustering_Based_on_Eigenvectors_of_the_Adjacency_Matrix\n",
    "    \n",
    "    # stupci od U su sv. vektori najdominantnijih sv. vrijednosti\n",
    "    U = np.zeros( (n, k) )\n",
    "    v, S = np.linalg.eig( E ) # D ili E\n",
    "    \n",
    "    for i in range(k):\n",
    "        m_index = np.argmax( np.absolute(v) )\n",
    "        v[m_index] = 0\n",
    "        U[:, i] = S[:, m_index]\n",
    "        \n",
    "    a = U.transpose()\n",
    "    \n",
    "    p = np.random.permutation( n )\n",
    "    \n",
    "    # u H zapisujemo rješenje\n",
    "    H = np.zeros( (n, k) )\n",
    "    \n",
    "    for i in range( n ):\n",
    "        l = i % k\n",
    "        H[p[i], l] = 1\n",
    "        \n",
    "    for z in range(20):\n",
    "        \n",
    "        m = np.zeros( (k, k) )\n",
    "        s = np.zeros( k )\n",
    "        \n",
    "        for i in range(n):\n",
    "            for j in range(k):\n",
    "                \n",
    "                if( H[i, j] > 0 ):\n",
    "                    m[:, j] = m[:, j] + a[:, i]\n",
    "                    s[j] = s[j] + 1\n",
    "                    \n",
    "        for j in range(k):\n",
    "            m[:, j] = m[:, j] / s[j]\n",
    "            \n",
    "        H = np.zeros( (n, k) )\n",
    "        \n",
    "        for i in range(n):\n",
    "            dst = np.zeros( k )\n",
    "            for j in range(k):\n",
    "                dst[j] = np.linalg.norm( m[:, j] - a[:, i] )\n",
    "                \n",
    "            H[i, np.argmin(dst)] = 1\n",
    "                    \n",
    "    print(H)\n",
    "    return H\n",
    "        "
   ]
  },
  {
   "cell_type": "code",
   "execution_count": 10,
   "metadata": {
    "scrolled": true
   },
   "outputs": [
    {
     "name": "stdout",
     "output_type": "stream",
     "text": [
      "[[ 1. -1.  1. -1. -1.  1.  1.  1.]\n",
      " [-1.  1. -1.  1.  1.  1. -1. -1.]\n",
      " [ 1. -1.  1. -1. -1.  1.  1.  1.]\n",
      " [-1.  1. -1.  1.  1.  1. -1. -1.]\n",
      " [-1.  1. -1.  1.  1. -1. -1. -1.]\n",
      " [ 1.  1.  1.  1. -1.  1.  1. -1.]\n",
      " [ 1. -1.  1. -1. -1.  1.  1.  1.]\n",
      " [ 1. -1.  1. -1. -1. -1.  1.  1.]]\n",
      "[[1. 0. 0.]\n",
      " [0. 1. 0.]\n",
      " [1. 0. 0.]\n",
      " [0. 1. 0.]\n",
      " [0. 1. 0.]\n",
      " [0. 0. 1.]\n",
      " [1. 0. 0.]\n",
      " [1. 0. 0.]]\n"
     ]
    },
    {
     "name": "stderr",
     "output_type": "stream",
     "text": [
      "C:\\Users\\Korisnik\\Anaconda3\\lib\\site-packages\\ipykernel_launcher.py:61: ComplexWarning: Casting complex values to real discards the imaginary part\n"
     ]
    }
   ],
   "source": [
    "H = clustering(A, 0.5, 3)"
   ]
  },
  {
   "cell_type": "code",
   "execution_count": 11,
   "metadata": {},
   "outputs": [
    {
     "data": {
      "image/png": "[encoded data removed]",
      "text/plain": [
       "<Figure size 432x288 with 1 Axes>"
      ]
     },
     "metadata": {},
     "output_type": "display_data"
    }
   ],
   "source": [
    "fig, ax = plt.subplots(1)\n",
    "\n",
    "nx.draw(G, pos, ax, width=tezine, node_size=1500, with_labels=True, node_color='r', edge_color= 'b')"
   ]
  },
  {
   "cell_type": "code",
   "execution_count": 12,
   "metadata": {
    "scrolled": true
   },
   "outputs": [
    {
     "data": {
      "image/png": "[encoded data removed]",
      "text/plain": [
       "<Figure size 432x288 with 1 Axes>"
      ]
     },
     "metadata": {},
     "output_type": "display_data"
    }
   ],
   "source": [
    "colors = ['r', 'r', 'r', 'r', 'r', 'r', 'r', 'r']\n",
    "(m, n) = H.shape\n",
    "\n",
    "for i in range(m):\n",
    "    for j in range(n):\n",
    "        if H[i, j] == 1 and j == 0:\n",
    "            colors[i] = 'r'\n",
    "            \n",
    "        elif H[i, j] == 1 and j == 1:\n",
    "            colors[i] = 'g'\n",
    "        \n",
    "        elif H[i, j] == 1 and j == 2:\n",
    "            colors[i] = 'y'\n",
    "\n",
    "\n",
    "fig, ax = plt.subplots(1)\n",
    "\n",
    "nx.draw(G, pos, ax, width=tezine, node_size=1500, with_labels=True, node_color=colors, edge_color= 'b')"
   ]
  }
 ],
 "metadata": {
  "kernelspec": {
   "display_name": "Python 3",
   "language": "python",
   "name": "python3"
  },
  "language_info": {
   "codemirror_mode": {
    "name": "ipython",
    "version": 3
   },
   "file_extension": ".py",
   "mimetype": "text/x-python",
   "name": "python",
   "nbconvert_exporter": "python",
   "pygments_lexer": "ipython3",
   "version": "3.7.7"
  }
 },
 "nbformat": 4,
 "nbformat_minor": 4
}
